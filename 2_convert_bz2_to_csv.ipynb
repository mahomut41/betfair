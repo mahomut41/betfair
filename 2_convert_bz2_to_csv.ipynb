{
 "cells": [
  {
   "cell_type": "markdown",
   "metadata": {},
   "source": [
    "#Open historical data (API) page and using my username and password to login "
   ]
  },
  {
   "cell_type": "code",
   "execution_count": null,
   "metadata": {},
   "outputs": [],
   "source": [
    "from selenium import webdriver\n",
    "from selenium.webdriver.common.keys import Keys\n",
    "from selenium.webdriver.common.by import By\n",
    "from selenium.webdriver.support.ui import WebDriverWait\n",
    "from selenium.webdriver.support import expected_conditions as EC\n",
    "import re\n",
    "import time\n",
    "\n",
    "# Configuration of the Chrome webdriver\n",
    "options = webdriver.ChromeOptions()\n",
    "\n",
    "# Initialize the Chrome webdriver\n",
    "driver = webdriver.Chrome(options=options)"
   ]
  },
  {
   "cell_type": "markdown",
   "metadata": {},
   "source": [
    "### Go to historic data processor page"
   ]
  },
  {
   "cell_type": "code",
   "execution_count": null,
   "metadata": {},
   "outputs": [],
   "source": [
    "driver.get('https://www.betfairhistoricdata.co.uk/')\n"
   ]
  },
  {
   "cell_type": "markdown",
   "metadata": {},
   "source": [
    "### select file from /Downloads \n",
    "### file is in the selected path, (the biggest file was selected to see all market types)"
   ]
  },
  {
   "cell_type": "code",
   "execution_count": null,
   "metadata": {},
   "outputs": [],
   "source": [
    "\n",
    "# Find the file input element\n",
    "file_input = driver.find_element(By.CSS_SELECTOR, \"input[type='file']\")\n",
    "\n",
    "# Specify the path to the file you want to upload\n",
    "file_path = \"/Users/noahroni/Downloads/29782273.bz2\"\n",
    "\n",
    "# Upload the file\n",
    "file_input.send_keys(file_path)\n",
    "\n",
    "time.sleep(10)"
   ]
  },
  {
   "cell_type": "code",
   "execution_count": null,
   "metadata": {},
   "outputs": [],
   "source": [
    "\n",
    "# Find the button by CSS selector based on the span text\n",
    "download_settings_button = driver.find_element(By.CSS_SELECTOR, \"button.v-btn--fab.v-btn--plain.v-btn--round.theme--light.v-size--small span.v-btn__content\")\n",
    "\n",
    "# Click on the button two times\n",
    "download_settings_button.click()\n",
    "\n",
    "time.sleep(1)\n",
    "\n"
   ]
  },
  {
   "cell_type": "code",
   "execution_count": null,
   "metadata": {},
   "outputs": [],
   "source": [
    "\n",
    "\n",
    "try:\n",
    "    # Wait for the icon element to be clickable\n",
    "    icon_element = WebDriverWait(driver, 10).until(\n",
    "        EC.element_to_be_clickable((By.XPATH, \"//i[@class='v-icon notranslate mdi mdi-menu-down theme--light']\"))\n",
    "    )\n",
    "\n",
    "    # Click on the icon element\n",
    "    icon_element.click()\n",
    "except Exception as e:\n",
    "    try:\n",
    "        # Find the input element by its ID using WebDriverWait\n",
    "        input_element = WebDriverWait(driver, 10).until(\n",
    "            EC.element_to_be_clickable((By.ID, \"input-73\"))\n",
    "        )\n",
    "        \n",
    "        # Click on the input element\n",
    "        input_element.click()\n",
    "        \n",
    "    except Exception as e:\n",
    "        print(f\"Error occurred while clicking the input element: {e}\")\n",
    "       \n"
   ]
  },
  {
   "cell_type": "code",
   "execution_count": null,
   "metadata": {},
   "outputs": [],
   "source": [
    "from selenium.webdriver.common.keys import Keys\n",
    "\n",
    "options_to_select = [\n",
    "    \"md.eventName\",\n",
    "    \"md.name\",\n",
    "    \"numberOfActiveRunners\",\n",
    "    \"numberOfWinners\",\n",
    "    \"status\",\n",
    "    \"totalMatched\"\n",
    "]\n",
    "\n",
    "# Find the input element\n",
    "input_element = driver.find_element(By.XPATH, \"//input[@id='input-61']\")\n",
    "\n",
    "# Iterate through the options to select\n",
    "for option in options_to_select:\n",
    "    # Clear the input field\n",
    "    input_element.clear()\n",
    "    \n",
    "    # Type the option into the input field\n",
    "    input_element.send_keys(option)\n",
    "    \n",
    "    # Press the \"Enter\" key to select the option\n",
    "    input_element.send_keys(Keys.ENTER)\n",
    "    \n",
    "time.sleep(2) "
   ]
  },
  {
   "cell_type": "code",
   "execution_count": null,
   "metadata": {},
   "outputs": [],
   "source": [
    "try:\n",
    "    # Wait for the element to be clickable\n",
    "    element = WebDriverWait(driver, 10).until(\n",
    "        EC.element_to_be_clickable((By.XPATH, \"//div[@class='v-card__title']/span[@class='text-h5']\"))\n",
    "    )\n",
    "\n",
    "    # Click on the element\n",
    "    element.click()\n",
    "except Exception as e:\n",
    "    print(f\"Error occurred while clicking on the element: {e}\")\n",
    "\n"
   ]
  },
  {
   "cell_type": "code",
   "execution_count": null,
   "metadata": {},
   "outputs": [],
   "source": [
    "time.sleep(2)\n",
    "\n",
    "try:\n",
    "    # Find the label element\n",
    "    label_element = WebDriverWait(driver, 10).until(\n",
    "        EC.element_to_be_clickable((By.XPATH, \"//label[@for='input-83' and contains(text(), 'Selection Columns')]\"))\n",
    "    )\n",
    "    \n",
    "    # Click on the label element\n",
    "    label_element.click()\n",
    "except Exception as e:\n",
    "    print(f\"Error occurred while clicking on the label: {e}\")\n"
   ]
  },
  {
   "cell_type": "code",
   "execution_count": null,
   "metadata": {},
   "outputs": [],
   "source": [
    "time.sleep(2)\n",
    "# Define the options you want to select\n",
    "options_to_select = [\n",
    "    \"ex.availableToBack.price\",\n",
    "    \"ex.availableToBack.size\",\n",
    "    \"ex.availableToLay.price\",\n",
    "    \"ex.availableToLay.size\",\n",
    "    \"status\",\n",
    "    \"totalMatched\"\n",
    "]\n",
    "\n",
    "try:\n",
    "    # Find the list of options\n",
    "    options = WebDriverWait(driver, 10).until(\n",
    "        EC.visibility_of_all_elements_located((By.XPATH, \"//div[@id='list-83']//div[@role='option']//div[@class='v-list-item__content']//div[@class='v-list-item__title']\"))\n",
    "    )\n",
    "    \n",
    "    # Loop through the options and click on the ones with the specified texts\n",
    "    for option in options:\n",
    "        text = option.text.strip()\n",
    "        if text in options_to_select:\n",
    "            option.click()\n",
    "except Exception as e:\n",
    "    print(f\"Error occurred while clicking on the specified texts: {e}\")\n",
    "\n",
    "time.sleep(1)\n"
   ]
  },
  {
   "cell_type": "code",
   "execution_count": null,
   "metadata": {},
   "outputs": [],
   "source": [
    "try:\n",
    "    # Find the element by XPath\n",
    "    close_icon_element = driver.find_element(By.XPATH, \"//i[@class='v-icon notranslate mdi mdi-menu-down theme--light secondary--text']\")\n",
    "\n",
    "    # Click on the close icon element\n",
    "    close_icon_element.click()\n",
    "except Exception as e:\n",
    "    print(f\"Error occurred while clicking on the close icon: {e}\")\n"
   ]
  },
  {
   "cell_type": "markdown",
   "metadata": {},
   "source": [
    "### if we want to desactive preplay output option !!!"
   ]
  },
  {
   "cell_type": "code",
   "execution_count": null,
   "metadata": {},
   "outputs": [],
   "source": [
    "time.sleep(2)\n",
    "# Assuming you have initialized your WebDriver instance as 'driver'\n",
    "\n",
    "# Find the div element by its class name\n",
    "div_element = driver.find_element(By.CLASS_NAME, 'v-input--selection-controls__ripple')\n",
    "\n",
    "# Click on the div element\n",
    "div_element.click()\n",
    "\n"
   ]
  },
  {
   "cell_type": "code",
   "execution_count": null,
   "metadata": {},
   "outputs": [],
   "source": [
    "try:\n",
    "    # Find the element by XPath\n",
    "    element = driver.find_element(By.XPATH, \"//div[@class='v-select__slot']//label[@for='input-101']\")\n",
    "\n",
    "    # Click on the element\n",
    "    element.click()\n",
    "except Exception as e:\n",
    "    print(f\"Error occurred while clicking on the element: {e}\")\n",
    "time.sleep(0.5)"
   ]
  },
  {
   "cell_type": "markdown",
   "metadata": {},
   "source": [
    "### we can select time frequency \n",
    "### for this we selected 60s. to change time, modify this --> '//div[@id=\"list-89\"]//div[text()=\" 60s \"]'. Write 0.5s, 1s, 2s, 5s, 10s, 60s or 600s ."
   ]
  },
  {
   "cell_type": "code",
   "execution_count": null,
   "metadata": {},
   "outputs": [],
   "source": [
    "\n",
    "try:\n",
    "    # Find the option for 60s\n",
    "    option_60s = WebDriverWait(driver, 10).until(\n",
    "        EC.element_to_be_clickable((By.XPATH, '//div[@id=\"list-101\"]//div[text()=\" 60s \"]'))\n",
    "    )\n",
    "    \n",
    "    # Click on the 60s option\n",
    "    option_60s.click()\n",
    "except Exception as e:\n",
    "    print(f\"Error occurred while clicking on the 60s option: {e}\")\n",
    "\n",
    "time.sleep(0.5)"
   ]
  },
  {
   "cell_type": "code",
   "execution_count": null,
   "metadata": {},
   "outputs": [],
   "source": [
    "\n",
    "try:\n",
    "    # Find the Save button\n",
    "    save_button = WebDriverWait(driver, 10).until(\n",
    "        EC.element_to_be_clickable((By.XPATH, '//span[contains(text(), \"save\")]'))\n",
    "    )\n",
    "    \n",
    "    # Click on the Save button\n",
    "    save_button.click()\n",
    "except Exception as e:\n",
    "    print(f\"Error occurred while clicking on the Save button: {e}\")\n",
    "time.sleep(1)"
   ]
  },
  {
   "cell_type": "markdown",
   "metadata": {},
   "source": [
    "### this part will be necessary for 3th part to convert 24 market_types"
   ]
  },
  {
   "cell_type": "code",
   "execution_count": null,
   "metadata": {},
   "outputs": [],
   "source": [
    "\n",
    "max_counts = 24\n",
    "click_count = 0\n",
    "\n",
    "# Keep track of clicked elements\n",
    "clicked_elements = set()\n",
    "\n",
    "# Continue looping until we reach the maximum number of scrolls\n",
    "while click_count < max_counts:\n",
    "    # Find all market type elements\n",
    "    market_type_elements = driver.find_elements(By.CLASS_NAME, \"v-list-item__title\")\n",
    "    \n",
    "    # Iterate over each market type element\n",
    "    for market_type_element in market_type_elements:\n",
    "        # Check if the element has already been clicked\n",
    "        if market_type_element.text not in clicked_elements:\n",
    "            # Print the name of the market type\n",
    "            print(market_type_element.text)\n",
    "            \n",
    "            # Click the element\n",
    "            market_type_element.click()\n",
    "            time.sleep(1) # Wait for page to load after click\n",
    "            \n",
    "            # Add the element to the set of clicked elements\n",
    "            clicked_elements.add(market_type_element.text)\n",
    "            \n",
    "            # Increment the scroll count\n",
    "            click_count += 1\n",
    "            \n",
    "            # Scroll the market type element halfway into view using JavaScript\n",
    "            driver.execute_script(\"arguments[0].scrollIntoView({block: 'center', inline: 'nearest'});\", market_type_element)\n",
    "            time.sleep(1)  # Wait for scrolling to complete\n",
    "\n",
    "\n",
    "\n"
   ]
  },
  {
   "cell_type": "markdown",
   "metadata": {},
   "source": [
    "# if u prefer select a spesific market type , here is 'Over/Under 8.5 Goals'"
   ]
  },
  {
   "cell_type": "code",
   "execution_count": null,
   "metadata": {},
   "outputs": [],
   "source": [
    "try:\n",
    "    # Click on the \"Over/Under 8.5 Goals\" element\n",
    "    market_type_element = driver.find_element(By.XPATH, \"//div[contains(text(), 'Over/Under 8.5 Goals')]\")\n",
    "    market_type_element.click()\n",
    "    time.sleep(1) # Wait for page to load after click\n",
    "    print(\"Clicked on 'Over/Under 8.5 Goals' element\")\n",
    "except Exception as e:\n",
    "    print(f\"Error occurred while clicking on 'Over/Under 8.5 Goals' element: {e}\")\n"
   ]
  },
  {
   "cell_type": "code",
   "execution_count": null,
   "metadata": {},
   "outputs": [],
   "source": [
    "print (market_type_element.text)\n",
    "\n",
    "# Find the main content element\n",
    "main_content_element = WebDriverWait(driver, 10).until(\n",
    "    EC.visibility_of_element_located((By.XPATH, '//div[@class=\"v-card__text\"]'))\n",
    ")\n",
    "\n",
    "# Extract the text from the main content element\n",
    "main_content_text = main_content_element.text\n",
    "\n",
    "# Print the main content text\n",
    "print(main_content_text)\n",
    "\n",
    "time.sleep(5)\n"
   ]
  },
  {
   "cell_type": "code",
   "execution_count": null,
   "metadata": {},
   "outputs": [],
   "source": [
    "\n",
    "try:\n",
    "    # Find the Download CSV button\n",
    "    download_csv_button = WebDriverWait(driver, 10).until(\n",
    "        EC.element_to_be_clickable((By.XPATH, '//span[contains(text(), \"Download csv\")]'))\n",
    "    )\n",
    "    \n",
    "    # Click on the Download CSV button\n",
    "    download_csv_button.click()\n",
    "except Exception as e:\n",
    "    print(f\"Error occurred while clicking on the Download CSV button: {e}\")\n",
    "\n",
    "time.sleep(15)\n"
   ]
  },
  {
   "cell_type": "markdown",
   "metadata": {},
   "source": [
    "### to convert from zip to csv format"
   ]
  },
  {
   "cell_type": "code",
   "execution_count": null,
   "metadata": {},
   "outputs": [],
   "source": [
    "\n",
    "# Find the main content element\n",
    "main_content_element = WebDriverWait(driver, 10).until(\n",
    "    EC.visibility_of_element_located((By.XPATH, '//div[@class=\"v-card__text\"]'))\n",
    ")\n",
    "\n",
    "# Extract the text from the main content element\n",
    "main_content_text = main_content_element.text\n",
    "\n",
    "# Use regular expression to find Market ID\n",
    "market_id_match = re.search(r'Market Id: (\\d+\\.\\d+)', main_content_text)\n",
    "if market_id_match:\n",
    "    market_id = market_id_match.group(1)\n",
    "    # Print the Market ID\n",
    "    print(f\"Market Id: {market_id}\")\n",
    "else:\n",
    "    print(\"Market ID not found in the main content text.\")\n"
   ]
  },
  {
   "cell_type": "code",
   "execution_count": null,
   "metadata": {},
   "outputs": [],
   "source": [
    "import os\n",
    "\n",
    "def open_file_in_folder(file_path):\n",
    "    try:\n",
    "        # Open the file by executing a command-line operation\n",
    "        os.system(f'open \"{file_path}\"')  # For Mac\n",
    "    except Exception as e:\n",
    "        print(f\"Error occurred while opening the file: {e}\")\n",
    "\n",
    "# Define the path to the Downloads folder\n",
    "home_dir = os.path.expanduser(\"~\")\n",
    "download_folder = os.path.join(home_dir, 'Downloads')\n",
    "\n",
    "# Define the path to the downloaded zip file (assuming it's already downloaded)\n",
    "market_id_zip_file = os.path.join(download_folder, f\"{market_id}.zip\")\n",
    "\n",
    "# Call the function to open the downloaded zip file\n",
    "open_file_in_folder(market_id_zip_file)\n"
   ]
  },
  {
   "cell_type": "code",
   "execution_count": null,
   "metadata": {},
   "outputs": [],
   "source": [
    "# Define the path to the downloaded zip file (assuming it's already downloaded)\n",
    "market_id_csv_file = os.path.join(download_folder, f\"{market_id}.csv\")\n",
    "\n",
    "print(market_id_csv_file)\n"
   ]
  },
  {
   "cell_type": "code",
   "execution_count": null,
   "metadata": {},
   "outputs": [],
   "source": [
    "# setup notebook \n",
    "import pandas as pd\n",
    "pd.plotting.register_matplotlib_converters()\n",
    "import matplotlib.pyplot as plt\n",
    "%matplotlib inline\n",
    "import seaborn as sns\n",
    "print(\"Setup Complete\")"
   ]
  },
  {
   "cell_type": "code",
   "execution_count": null,
   "metadata": {},
   "outputs": [],
   "source": [
    "# Read the file into a variable DinamoMinsk_Slutsk_data\n",
    "market_id_data = pd.read_csv(market_id_csv_file ) #could be added \" index_col=\"publishTime\", parse_dates=True\""
   ]
  },
  {
   "cell_type": "code",
   "execution_count": null,
   "metadata": {},
   "outputs": [],
   "source": [
    "import numpy as np\n",
    "\n",
    "# Define a function to apply the formula and rounding to each row\n",
    "def calculate_and_round_percentage(row):\n",
    "    if row['totalMatched'] == 0 or row['selection_totalMatched'] == 0:\n",
    "        return 0\n",
    "    else:\n",
    "        percentage = (row['selection_totalMatched'] / row['totalMatched']) * 100\n",
    "        return round(percentage, 2)\n",
    "\n",
    "# Add a new column with the calculated and rounded percentage\n",
    "market_id_data['percent_money_on_market'] = market_id_data.apply(calculate_and_round_percentage, axis=1)\n",
    "\n",
    "# Display the DataFrame with the new column\n",
    "market_id_data.tail()"
   ]
  },
  {
   "cell_type": "code",
   "execution_count": null,
   "metadata": {},
   "outputs": [],
   "source": [
    "import pandas as pd\n",
    "\n",
    "# Convert specific columns to float data type, handling non-numeric values\n",
    "columns_to_convert = ['totalMatched', 'selection_ex.availableToBack.price', 'selection_ex.availableToBack.size',\n",
    "                      'selection_ex.availableToLay.price', 'selection_ex.availableToLay.size', 'selection_totalMatched']\n",
    "\n",
    "for col in columns_to_convert:\n",
    "    market_id_data[col] = pd.to_numeric(market_id_data[col], errors='coerce')\n",
    "\n",
    "# Display the DataFrame with the new column\n",
    "market_id_data.head()"
   ]
  },
  {
   "cell_type": "code",
   "execution_count": null,
   "metadata": {},
   "outputs": [],
   "source": [
    "# Convert 'publishTime' column to datetime format\n",
    "market_id_data['publishTime'] = pd.to_datetime(market_id_data['publishTime'])\n",
    "\n",
    "# Get the first publishTime as the start time\n",
    "start_time = market_id_data['publishTime'].iloc[0]\n",
    "\n",
    "# Calculate the minute difference from the start time for each publishTime\n",
    "market_id_data['Minute'] = ((market_id_data['publishTime'] - start_time).dt.total_seconds() / 60 + 1).astype(int)\n",
    "\n",
    "# Format the 'publishTime' column as '02.05.2020 15:00:20'\n",
    "market_id_data['publishTime'] = market_id_data['publishTime'].dt.strftime('%d.%m.%Y %H:%M:%S')"
   ]
  },
  {
   "cell_type": "code",
   "execution_count": null,
   "metadata": {},
   "outputs": [],
   "source": [
    "\n",
    "# Check if 90 minutes have passed and if the percent of money is 0\n",
    "market_id_data['Status'] = ''\n",
    "for index, row in market_id_data.iterrows():\n",
    "    if row['Minute'] > 90 and row['percent_money_on_market'] == 0:\n",
    "        market_id_data.at[index, 'Status'] = 'Match ended'\n",
    "\n",
    "# Construct the custom filename\n",
    "event_name = market_id_data['md.eventName'].iloc[0].replace(' v ', '_').replace('/', '_')\n",
    "market_name = market_id_data['md.name'].iloc[0].replace(' ', '').replace('/', '_')\n",
    "filename = f'\"{event_name}({market_name}).csv\"'\n",
    "\n",
    "# Create a folder with the event name if it doesn't exist\n",
    "folder_path = event_name\n",
    "if not os.path.exists(folder_path):\n",
    "    os.makedirs(folder_path)\n",
    "\n",
    "# Define the full file path\n",
    "file_path = os.path.join(folder_path, filename)\n",
    "\n",
    "# Write the DataFrame to a CSV file with the custom filename\n",
    "market_id_data.to_csv(file_path, index=False, float_format='%.2f', na_rep='NaN')\n",
    "\n",
    "# Display the DataFrame with the new column\n",
    "market_id_data.tail()\n"
   ]
  },
  {
   "cell_type": "code",
   "execution_count": null,
   "metadata": {},
   "outputs": [],
   "source": [
    "# Define a list of file paths to remove\n",
    "files_to_remove = [\n",
    "    os.path.join(download_folder, f\"{market_id}.zip\"),\n",
    "    os.path.join(download_folder, f\"{market_id}.csv\")\n",
    "]\n",
    "\n",
    "# Iterate over each file path in the list\n",
    "for file_path in files_to_remove:\n",
    "    # Check if the file exists\n",
    "    if os.path.exists(file_path):\n",
    "        # If it exists, remove it\n",
    "        os.remove(file_path)\n"
   ]
  }
 ],
 "metadata": {
  "kernelspec": {
   "display_name": "Python 3",
   "language": "python",
   "name": "python3"
  },
  "language_info": {
   "codemirror_mode": {
    "name": "ipython",
    "version": 3
   },
   "file_extension": ".py",
   "mimetype": "text/x-python",
   "name": "python",
   "nbconvert_exporter": "python",
   "pygments_lexer": "ipython3",
   "version": "3.11.5"
  }
 },
 "nbformat": 4,
 "nbformat_minor": 2
}
