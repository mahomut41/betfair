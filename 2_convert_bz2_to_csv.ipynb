{
 "cells": [
  {
   "cell_type": "markdown",
   "metadata": {},
   "source": [
    "#Open historical data (API) page and using my username and password to login "
   ]
  },
  {
   "cell_type": "code",
   "execution_count": null,
   "metadata": {},
   "outputs": [],
   "source": [
    "from selenium import webdriver\n",
    "from selenium.webdriver.common.keys import Keys\n",
    "from selenium.webdriver.common.by import By\n",
    "from selenium.webdriver.support.ui import WebDriverWait\n",
    "from selenium.webdriver.support import expected_conditions as EC\n",
    "\n",
    "# Configuration of the Chrome webdriver\n",
    "options = webdriver.ChromeOptions()\n",
    "\n",
    "# Initialize the Chrome webdriver\n",
    "driver = webdriver.Chrome(options=options)"
   ]
  },
  {
   "cell_type": "markdown",
   "metadata": {},
   "source": [
    "### Go to historic data processor page"
   ]
  },
  {
   "cell_type": "code",
   "execution_count": null,
   "metadata": {},
   "outputs": [],
   "source": [
    "driver.get('https://www.betfairhistoricdata.co.uk/')\n",
    "\n",
    "# Find and click the button\n",
    "#button = driver.find_element(By.CSS_SELECTOR, \"button.v-icon.notranslate.v-icon--link.mdi.mdi-card-bulleted.theme--light\")\n",
    "#button.click()\n"
   ]
  },
  {
   "cell_type": "markdown",
   "metadata": {},
   "source": [
    "### select file from /Downloads \n",
    "### file is in the selected path, (the biggest file was selected to see all market types)"
   ]
  },
  {
   "cell_type": "code",
   "execution_count": null,
   "metadata": {},
   "outputs": [],
   "source": [
    "import time\n",
    "\n",
    "# Find the file input element\n",
    "file_input = driver.find_element(By.CSS_SELECTOR, \"input[type='file']\")\n",
    "\n",
    "# Specify the path to the file you want to upload\n",
    "file_path = \"/Users/noahroni/Downloads/29782273.bz2\"\n",
    "\n",
    "# Upload the file\n",
    "file_input.send_keys(file_path)\n",
    "\n",
    "time.sleep(10)"
   ]
  },
  {
   "cell_type": "code",
   "execution_count": null,
   "metadata": {},
   "outputs": [],
   "source": [
    "# Find all market type elements\n",
    "market_type_elements = driver.find_elements(By.XPATH, \"//div[@class='v-virtual-scroll__item']\")\n",
    "\n",
    "# Iterate through each market type element\n",
    "for market_type_element in market_type_elements:\n",
    "    try:\n",
    "        # Execute JavaScript to click on the market type element\n",
    "        driver.execute_script(\"arguments[0].click();\", market_type_element)\n",
    "        # Add a delay if necessary\n",
    "        time.sleep(1)\n",
    "        # Get the market type name\n",
    "        market_type_name = market_type_element.text\n",
    "        print(market_type_name)\n",
    "\n",
    "    except Exception as e:\n",
    "        print(f\"Failed to click on market type element: {e}\")\n",
    "time.sleep(10)"
   ]
  },
  {
   "cell_type": "code",
   "execution_count": null,
   "metadata": {},
   "outputs": [],
   "source": [
    "\n",
    "\n",
    "# Find the subtitle element\n",
    "subtitle_element = WebDriverWait(driver, 10).until(\n",
    "    EC.visibility_of_element_located((By.XPATH, '//div[@class=\"v-list-item__title\"]'))\n",
    ")\n",
    "\n",
    "# Extract the text from the subtitle element\n",
    "subtitle_text = subtitle_element.text\n",
    "\n",
    "# Print the subtitle text\n",
    "print(subtitle_text)\n",
    "\n",
    "# Find the main content element\n",
    "main_content_element = WebDriverWait(driver, 10).until(\n",
    "    EC.visibility_of_element_located((By.XPATH, '//div[@class=\"v-card__text\"]'))\n",
    ")\n",
    "\n",
    "# Extract the text from the main content element\n",
    "main_content_text = main_content_element.text\n",
    "\n",
    "# Print the main content text\n",
    "print(main_content_text)\n"
   ]
  },
  {
   "cell_type": "code",
   "execution_count": null,
   "metadata": {},
   "outputs": [],
   "source": [
    "# Find the download settings button by XPath\n",
    "download_settings_button = driver.find_element(By.XPATH, \"//button[contains(@class, 'v-btn--fab') and contains(@class, 'v-btn--plain') and contains(@class, 'v-btn--round') and contains(@class, 'v-size--small') and contains(@class, 'mx-2')]\")\n",
    "\n",
    "# Click on the download settings button\n",
    "download_settings_button.click()\n",
    "time.sleep(2)\n"
   ]
  },
  {
   "cell_type": "code",
   "execution_count": null,
   "metadata": {},
   "outputs": [],
   "source": [
    "\n",
    "\n",
    "# Assuming you have initialized your WebDriver instance as 'driver'\n",
    "\n",
    "try:\n",
    "    # Find the market columns label\n",
    "    market_columns_label = WebDriverWait(driver, 10).until(\n",
    "        EC.element_to_be_clickable((By.XPATH, '//label[@for=\"input-61\"]'))\n",
    "    )\n",
    "    \n",
    "    # Click on the market columns label\n",
    "    market_columns_label.click()\n",
    "except Exception as e:\n",
    "    print(f\"Error occurred while clicking on the market columns label: {e}\")\n"
   ]
  },
  {
   "cell_type": "code",
   "execution_count": null,
   "metadata": {},
   "outputs": [],
   "source": [
    "\n",
    "\n",
    "# Define the options you want to select\n",
    "options_to_select = [\n",
    "    \"md.eventName\",\n",
    "    \"md.name\",\n",
    "    \"numberOfActiveRunners\",\n",
    "    \"numberOfRunners\",\n",
    "    \"numberOfWinners\",\n",
    "    \"status\",\n",
    "    \"totalMatched\"\n",
    "]\n",
    "\n",
    "# Iterate through the options and click on each one\n",
    "for option_text in options_to_select:\n",
    "    try:\n",
    "        # Wait for the element to be clickable\n",
    "        option_element = WebDriverWait(driver, 10).until(\n",
    "            EC.element_to_be_clickable((By.XPATH, f\"//div[@id='list-61']//div[contains(text(), '{option_text}')]\"))\n",
    "        )\n",
    "        option_element.click()\n",
    "    except Exception as e:\n",
    "        print(f\"Error occurred while selecting {option_text}: {e}\")\n"
   ]
  },
  {
   "cell_type": "code",
   "execution_count": null,
   "metadata": {},
   "outputs": [],
   "source": [
    "icon_element = driver.find_element(By.XPATH, \"//i[contains(@class, 'v-icon') and contains(@class, 'notranslate') and contains(@class, 'mdi') and contains(@class, 'mdi-menu-down') and contains(@class, 'theme--light') and contains(@class, 'secondary--text')]\")\n",
    "    \n",
    "# Click on the icon element\n",
    "icon_element.click()"
   ]
  },
  {
   "cell_type": "code",
   "execution_count": null,
   "metadata": {},
   "outputs": [],
   "source": [
    "\n",
    "\n",
    "try:\n",
    "    # Find the label element for \"Selection Columns\"\n",
    "    label_element = WebDriverWait(driver, 10).until(\n",
    "        EC.visibility_of_element_located((By.XPATH, \"//label[@for='input-71' and text()='Selection Columns']\"))\n",
    "    )\n",
    "    \n",
    "    # Click on the label element\n",
    "    label_element.click()\n",
    "except Exception as e:\n",
    "    print(f\"Error occurred while clicking on the 'Selection Columns' label: {e}\")\n"
   ]
  },
  {
   "cell_type": "code",
   "execution_count": null,
   "metadata": {},
   "outputs": [],
   "source": [
    "\n",
    "\n",
    "try:\n",
    "    # Find the list of options\n",
    "    options = WebDriverWait(driver, 10).until(\n",
    "        EC.visibility_of_all_elements_located((By.XPATH, \"//div[@id='list-71']//div[@role='option']//div[@class='v-list-item__content']//div[@class='v-list-item__title']\"))\n",
    "    )\n",
    "    \n",
    "    # Define the texts to click on\n",
    "    texts_to_click = [\"md.name\", \"ex.availableToBack.price\", \"ex.availableToBack.size\", \"ex.availableToLay.price\", \"ex.availableToLay.size\", \"status\", \"totalMatched\"]\n",
    "    \n",
    "    # Loop through the options and click on the ones with the specified texts\n",
    "    for option in options:\n",
    "        text = option.text.strip()\n",
    "        if text in texts_to_click:\n",
    "            option.click()\n",
    "except Exception as e:\n",
    "    print(f\"Error occurred while clicking on the specified texts: {e}\")\n"
   ]
  },
  {
   "cell_type": "markdown",
   "metadata": {},
   "source": [
    "### if we want to desactive preplay output option !!!"
   ]
  },
  {
   "cell_type": "code",
   "execution_count": null,
   "metadata": {},
   "outputs": [],
   "source": [
    "\n",
    "\n",
    "# Assuming you have initialized your WebDriver instance as 'driver'\n",
    "\n",
    "try:\n",
    "    # desactive the Preplay label\n",
    "    preplay_label = WebDriverWait(driver, 10).until(\n",
    "        EC.element_to_be_clickable((By.XPATH, '//label[@for=\"input-81\"]'))\n",
    "    )\n",
    "    \n",
    "    # Click on the Preplay label\n",
    "    preplay_label.click()\n",
    "except Exception as e:\n",
    "    print(f\"Error occurred while clicking on the Preplay label: {e}\")\n"
   ]
  },
  {
   "cell_type": "code",
   "execution_count": null,
   "metadata": {},
   "outputs": [],
   "source": [
    "\n",
    "# Assuming you have initialized your WebDriver instance as 'driver'\n",
    "\n",
    "try:\n",
    "    # Find the Conflation label\n",
    "    conflation_label = WebDriverWait(driver, 10).until(\n",
    "        EC.element_to_be_clickable((By.XPATH, '//label[@for=\"input-89\"]'))\n",
    "    )\n",
    "    \n",
    "    # Click on the Conflation label\n",
    "    conflation_label.click()\n",
    "except Exception as e:\n",
    "    print(f\"Error occurred while clicking on the Conflation label: {e}\")\n"
   ]
  },
  {
   "cell_type": "markdown",
   "metadata": {},
   "source": [
    "### we can select time frequency \n",
    "### for this we selected 60s. to change time, modify this --> '//div[@id=\"list-89\"]//div[text()=\" 60s \"]'. Write 0.5s, 1s, 2s, 5s, 10s, 60s or 600s ."
   ]
  },
  {
   "cell_type": "code",
   "execution_count": null,
   "metadata": {},
   "outputs": [],
   "source": [
    "\n",
    "\n",
    "# Assuming you have initialized your WebDriver instance as 'driver'\n",
    "\n",
    "try:\n",
    "    # Find the option for 60s\n",
    "    option_60s = WebDriverWait(driver, 10).until(\n",
    "        EC.element_to_be_clickable((By.XPATH, '//div[@id=\"list-89\"]//div[text()=\" 60s \"]'))\n",
    "    )\n",
    "    \n",
    "    # Click on the 60s option\n",
    "    option_60s.click()\n",
    "except Exception as e:\n",
    "    print(f\"Error occurred while clicking on the 60s option: {e}\")\n"
   ]
  },
  {
   "cell_type": "code",
   "execution_count": null,
   "metadata": {},
   "outputs": [],
   "source": [
    "\n",
    "\n",
    "# Assuming you have initialized your WebDriver instance as 'driver'\n",
    "\n",
    "try:\n",
    "    # Find the Save button\n",
    "    save_button = WebDriverWait(driver, 10).until(\n",
    "        EC.element_to_be_clickable((By.XPATH, '//span[contains(text(), \"save\")]'))\n",
    "    )\n",
    "    \n",
    "    # Click on the Save button\n",
    "    save_button.click()\n",
    "except Exception as e:\n",
    "    print(f\"Error occurred while clicking on the Save button: {e}\")\n"
   ]
  },
  {
   "cell_type": "code",
   "execution_count": null,
   "metadata": {},
   "outputs": [],
   "source": [
    "\n",
    "\n",
    "# Assuming you have initialized your WebDriver instance as 'driver'\n",
    "\n",
    "try:\n",
    "    # Find the Download CSV button\n",
    "    download_csv_button = WebDriverWait(driver, 10).until(\n",
    "        EC.element_to_be_clickable((By.XPATH, '//span[contains(text(), \"Download csv\")]'))\n",
    "    )\n",
    "    \n",
    "    # Click on the Download CSV button\n",
    "    download_csv_button.click()\n",
    "except Exception as e:\n",
    "    print(f\"Error occurred while clicking on the Download CSV button: {e}\")\n",
    "\n",
    "time.sleep(10)\n"
   ]
  },
  {
   "cell_type": "markdown",
   "metadata": {},
   "source": [
    "### to convert from zip to csv format"
   ]
  },
  {
   "cell_type": "code",
   "execution_count": null,
   "metadata": {},
   "outputs": [],
   "source": [
    "\n",
    "# Find the element containing the \"Market Id\" information using XPath\n",
    "market_id_element = WebDriverWait(driver, 10).until(\n",
    "    EC.visibility_of_element_located((By.XPATH, '//h5[contains(text(), \"Market Id:\")]'))\n",
    ")\n",
    "\n",
    "# Extract the \"Market Id\" from the element\n",
    "market_id = market_id_element.text.split(\":\")[1].strip()\n",
    "\n",
    "print(f\"Market Id: {market_id}\")\n",
    "\n",
    "# Click on the element to trigger the file download\n",
    "market_id_element.click()\n",
    "\n",
    "# Wait for some time for the file to download\n",
    "time.sleep(5)  # Adjust the time according to your internet speed and file size"
   ]
  },
  {
   "cell_type": "code",
   "execution_count": null,
   "metadata": {},
   "outputs": [],
   "source": [
    "import os\n",
    "\n",
    "def open_file_in_folder(file_path):\n",
    "    try:\n",
    "        # Open the file by executing a command-line operation\n",
    "        os.system(f'open \"{file_path}\"')  # For Mac\n",
    "    except Exception as e:\n",
    "        print(f\"Error occurred while opening the file: {e}\")\n",
    "\n",
    "# Define the path to the Downloads folder\n",
    "home_dir = os.path.expanduser(\"~\")\n",
    "download_folder = os.path.join(home_dir, 'Downloads')\n",
    "\n",
    "# Define the path to the downloaded zip file (assuming it's already downloaded)\n",
    "market_id_zip_file = os.path.join(download_folder, f\"{market_id}.zip\")\n",
    "\n",
    "# Call the function to open the downloaded zip file\n",
    "open_file_in_folder(market_id_zip_file)\n"
   ]
  }
 ],
 "metadata": {
  "kernelspec": {
   "display_name": "Python 3",
   "language": "python",
   "name": "python3"
  },
  "language_info": {
   "codemirror_mode": {
    "name": "ipython",
    "version": 3
   },
   "file_extension": ".py",
   "mimetype": "text/x-python",
   "name": "python",
   "nbconvert_exporter": "python",
   "pygments_lexer": "ipython3",
   "version": "3.11.5"
  }
 },
 "nbformat": 4,
 "nbformat_minor": 2
}
