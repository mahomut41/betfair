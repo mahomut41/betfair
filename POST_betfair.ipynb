{
 "cells": [
  {
   "cell_type": "code",
   "execution_count": 2,
   "metadata": {},
   "outputs": [
    {
     "name": "stdout",
     "output_type": "stream",
     "text": [
      "Authentication failed. Status code: 400\n"
     ]
    }
   ],
   "source": [
    "import requests\n",
    "\n",
    "# Authentication endpoint URL\n",
    "auth_url = \"https://identitysso-cert.betfair.com/api/certlogin\"\n",
    "\n",
    "# Replace with your username, password, and app key\n",
    "username = \"allisonrmartin\"\n",
    "password = \"313577Pl,.\"\n",
    "app_key = \"DNEIqwcyAiS7KvXd\"\n",
    "\n",
    "# Authentication request payload\n",
    "payload = {\n",
    "    \"username\": username,\n",
    "    \"password\": password,\n",
    "    \"appKey\": app_key\n",
    "}\n",
    "\n",
    "# Send authentication request\n",
    "response = requests.post(auth_url, json=payload)\n",
    "\n",
    "# Check if authentication was successful\n",
    "if response.status_code == 200:\n",
    "    # Extract session token from response\n",
    "    session_token = response.json()[\"sessionToken\"]\n",
    "    \n",
    "    # Print session token\n",
    "    print(\"Session Token:\", session_token)\n",
    "else:\n",
    "    print(\"Authentication failed. Status code:\", response.status_code)\n"
   ]
  }
 ],
 "metadata": {
  "kernelspec": {
   "display_name": "Python 3",
   "language": "python",
   "name": "python3"
  },
  "language_info": {
   "codemirror_mode": {
    "name": "ipython",
    "version": 3
   },
   "file_extension": ".py",
   "mimetype": "text/x-python",
   "name": "python",
   "nbconvert_exporter": "python",
   "pygments_lexer": "ipython3",
   "version": "3.11.5"
  }
 },
 "nbformat": 4,
 "nbformat_minor": 2
}
