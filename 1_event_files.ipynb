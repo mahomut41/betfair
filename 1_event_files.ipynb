{
 "cells": [
  {
   "cell_type": "code",
   "execution_count": 8,
   "metadata": {},
   "outputs": [
    {
     "name": "stdout",
     "output_type": "stream",
     "text": [
      "Total files copied: 73\n"
     ]
    }
   ],
   "source": [
    "import os\n",
    "import shutil\n",
    "\n",
    "# List to store destination file paths\n",
    "destination_file_paths = []\n",
    "\n",
    "# Function to find the largest .bz2 file in a directory\n",
    "def find_largest_bz2_file(directory):\n",
    "    largest_file = None\n",
    "    largest_size = 0\n",
    "\n",
    "    # Iterate over all files in the directory\n",
    "    for root, dirs, files in os.walk(directory):\n",
    "        for file in files:\n",
    "            if file.endswith(\".bz2\"):\n",
    "                file_path = os.path.join(root, file)\n",
    "                file_size = os.path.getsize(file_path)\n",
    "                if file_size > largest_size:\n",
    "                    largest_size = file_size\n",
    "                    largest_file = file_path\n",
    "\n",
    "    return largest_file, largest_size\n",
    "\n",
    "# Function to copy the largest .bz2 file to the appropriate directory\n",
    "def copy_largest_bz2_file(source_file, destination_dir, big_files_dir, file_size):\n",
    "    if source_file:\n",
    "        folder_name = os.path.basename(os.path.dirname(source_file))\n",
    "        filename = folder_name + \".bz2\"\n",
    "        if file_size > 5 * 1024 * 1024:\n",
    "            destination_file = os.path.join(big_files_dir, filename)\n",
    "        else:\n",
    "            destination_file = os.path.join(destination_dir, filename)\n",
    "\n",
    "        shutil.copy2(source_file, destination_file)\n",
    "        destination_file_paths.append(destination_file)  # Store destination file path\n",
    "        return 1\n",
    "    return 0\n",
    "\n",
    "# Recursively find the largest .bz2 file in each child folder and copy it to the appropriate directory\n",
    "def find_and_copy_largest_bz2_files(directory, destination_dir, big_files_dir):\n",
    "    total_files_copied = 0\n",
    "    for root, dirs, files in os.walk(directory):\n",
    "        if not dirs:  # If the current directory has no subdirectories, it's a leaf node\n",
    "            largest_bz2_file, largest_size = find_largest_bz2_file(root)\n",
    "            total_files_copied += copy_largest_bz2_file(largest_bz2_file, destination_dir, big_files_dir, largest_size)\n",
    "    return total_files_copied\n",
    "\n",
    "# Main function to start the process\n",
    "def main():\n",
    "    source_dir = \"/Users/noahroni/Documents/ADVANCED/2020/Jul/\"\n",
    "    destination_dir = \"/Users/noahroni/Documents/Market_Folders\"\n",
    "    big_files_dir = \"/Users/noahroni/Documents/event_files_big\"\n",
    "\n",
    "    if not os.path.exists(destination_dir):\n",
    "        os.makedirs(destination_dir)\n",
    "    if not os.path.exists(big_files_dir):\n",
    "        os.makedirs(big_files_dir)\n",
    "\n",
    "    total_files_copied = find_and_copy_largest_bz2_files(source_dir, destination_dir, big_files_dir)\n",
    "    print(f\"Total files copied: {total_files_copied}\")\n",
    "\n",
    "    # Print destination file paths\n",
    "    #print(\"Destination file paths:\")\n",
    "    #for file_path in destination_file_paths:\n",
    "    #    print(file_path)\n",
    "\n",
    "# Run the main function\n",
    "if __name__ == \"__main__\":\n",
    "    main()\n",
    "#print(destination_file_paths[0])\n"
   ]
  }
 ],
 "metadata": {
  "kernelspec": {
   "display_name": "Python 3",
   "language": "python",
   "name": "python3"
  },
  "language_info": {
   "codemirror_mode": {
    "name": "ipython",
    "version": 3
   },
   "file_extension": ".py",
   "mimetype": "text/x-python",
   "name": "python",
   "nbconvert_exporter": "python",
   "pygments_lexer": "ipython3",
   "version": "3.11.5"
  }
 },
 "nbformat": 4,
 "nbformat_minor": 2
}
