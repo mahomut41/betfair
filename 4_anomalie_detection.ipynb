{
 "cells": [
  {
   "cell_type": "code",
   "execution_count": null,
   "metadata": {},
   "outputs": [],
   "source": [
    "import os\n",
    "import pandas as pd"
   ]
  },
  {
   "cell_type": "code",
   "execution_count": null,
   "metadata": {},
   "outputs": [],
   "source": [
    "\n",
    "# Get the path to the Documents folder\n",
    "documents_folder = os.path.expanduser(\"~/Documents/Test\")\n",
    "\n",
    "# Change the current working directory to the Documents folder\n",
    "os.chdir(documents_folder)\n",
    "\n",
    "# Print the current working directory to verify the change\n",
    "print(\"Current working directory:\", os.getcwd())\n"
   ]
  },
  {
   "cell_type": "code",
   "execution_count": null,
   "metadata": {},
   "outputs": [],
   "source": [
    "import os\n",
    "import shutil\n",
    "\n",
    "# Function to find the largest .bz2 file in a directory\n",
    "def find_largest_bz2_file(directory):\n",
    "    largest_file = None\n",
    "    largest_size = 0\n",
    "\n",
    "    # Iterate over all files in the directory\n",
    "    for root, dirs, files in os.walk(directory):\n",
    "        for file in files:\n",
    "            if file.endswith(\".bz2\"):\n",
    "                file_path = os.path.join(root, file)\n",
    "                file_size = os.path.getsize(file_path)\n",
    "                if file_size > largest_size:\n",
    "                    largest_size = file_size\n",
    "                    largest_file = file_path\n",
    "\n",
    "    return largest_file\n",
    "\n",
    "# Function to copy the largest .bz2 file to the destination directory\n",
    "def copy_largest_bz2_file(source_file, destination_dir):\n",
    "    if source_file:\n",
    "        filename = os.path.basename(source_file)\n",
    "        destination_file = os.path.join(destination_dir, filename)\n",
    "        shutil.copy2(source_file, destination_file)\n",
    "        print(f\"Copied '{source_file}' to '{destination_file}'\")\n",
    "        return 1\n",
    "    return 0\n",
    "\n",
    "# Recursively find the largest .bz2 file in each child folder and copy it to the destination directory\n",
    "def find_and_copy_largest_bz2_files(directory, destination_dir):\n",
    "    total_files_copied = 0\n",
    "    for root, dirs, files in os.walk(directory):\n",
    "        if not dirs:  # If the current directory has no subdirectories, it's a leaf node\n",
    "            largest_bz2_file = find_largest_bz2_file(root)\n",
    "            total_files_copied += copy_largest_bz2_file(largest_bz2_file, destination_dir)\n",
    "    return total_files_copied\n",
    "\n",
    "# Main function to start the process\n",
    "def main():\n",
    "    source_dir = \"/Users/noahroni/Documents/Data-2\"\n",
    "    destination_dir = \"/Users/noahroni/Documents/Big_files\"\n",
    "\n",
    "    if not os.path.exists(destination_dir):\n",
    "        os.makedirs(destination_dir)\n",
    "\n",
    "    total_files_copied = find_and_copy_largest_bz2_files(source_dir, destination_dir)\n",
    "    print(f\"Total files copied: {total_files_copied}\")\n",
    "\n",
    "# Run the main function\n",
    "if __name__ == \"__main__\":\n",
    "    main()\n",
    "\n",
    "# Define the folder name pattern (optional)\n",
    "folder_pattern = \"Dinamo Minsk\"\n",
    "\n",
    "# Define the file name pattern (optional)\n",
    "file_pattern = \"drawnobet\"\n",
    "\n",
    "# Initialize the file path variable\n",
    "file_path = None\n",
    "\n",
    "# Search for the folder and files\n",
    "for root, dirs, files in os.walk(\".\"):\n",
    "    # Check if the folder name matches the pattern\n",
    "    if folder_pattern.lower() in os.path.basename(root).lower():\n",
    "        print(f\"Found folder: {root}\")\n",
    "\n",
    "        # Check if any file in the current directory matches the pattern\n",
    "        for file_name in files:\n",
    "            if file_pattern.lower() in file_name.lower():\n",
    "                file_path = os.path.join(root, file_name)\n",
    "                print(f\"Found file: {file_path}\")\n",
    "                break"
   ]
  },
  {
   "cell_type": "code",
   "execution_count": null,
   "metadata": {},
   "outputs": [],
   "source": [
    "# If a file path was found, read the CSV file\n",
    "if file_path:\n",
    "    try:\n",
    "        df = pd.read_csv(file_path)\n",
    "        print(f\"CSV file loaded successfully. Shape: {df.shape}\")\n",
    "        # You can now work with the DataFrame 'df'\n",
    "        # For example, you can print the first few rows:\n",
    "        print(df.head())\n",
    "    except Exception as e:\n",
    "        print(f\"Error reading CSV file: {e}\")\n",
    "else:\n",
    "    print(\"No matching file found.\")"
   ]
  },
  {
   "cell_type": "markdown",
   "metadata": {},
   "source": [
    "### consider some points as :\n",
    "    ### 1. Average bet in this league\n",
    "    ### 2. Bets on this game on other markets\n",
    "    ### 3. Intensity Bets"
   ]
  },
  {
   "cell_type": "markdown",
   "metadata": {},
   "source": []
  }
 ],
 "metadata": {
  "kernelspec": {
   "display_name": "Python 3",
   "language": "python",
   "name": "python3"
  },
  "language_info": {
   "codemirror_mode": {
    "name": "ipython",
    "version": 3
   },
   "file_extension": ".py",
   "mimetype": "text/x-python",
   "name": "python",
   "nbconvert_exporter": "python",
   "pygments_lexer": "ipython3",
   "version": "3.11.5"
  }
 },
 "nbformat": 4,
 "nbformat_minor": 2
}
