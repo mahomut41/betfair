{
 "cells": [
  {
   "cell_type": "markdown",
   "metadata": {},
   "source": [
    "#Open historical data (API) page and using my username and password to login "
   ]
  },
  {
   "cell_type": "code",
   "execution_count": 1,
   "metadata": {},
   "outputs": [],
   "source": [
    "from selenium import webdriver\n",
    "from selenium.webdriver.common.keys import Keys\n",
    "from selenium.webdriver.common.by import By\n",
    "from selenium.webdriver.support.ui import WebDriverWait\n",
    "from selenium.webdriver.support import expected_conditions as EC\n",
    "\n",
    "# Configuration of the Chrome webdriver\n",
    "options = webdriver.ChromeOptions()\n",
    "\n",
    "# Initialize the Chrome webdriver\n",
    "driver = webdriver.Chrome(options=options)\n",
    "\n",
    "# Navigate to the specified URL\n",
    "driver.get('https://historicdata.betfair.com/#/home')\n",
    "\n",
    "# Find the username input field and enter the username\n",
    "username_input = driver.find_element(By.XPATH, '//input[@placeholder=\"E-mail/Username\"]')\n",
    "username_input.send_keys('allisonrmartin')\n",
    "\n",
    "# Find the password input field and enter the password\n",
    "password_input = driver.find_element(By.XPATH, '//input[@placeholder=\"Password\"]')\n",
    "password_input.send_keys('313577Pl,.')\n",
    "\n",
    "# Find and click the login button\n",
    "login_button = driver.find_element(By.CSS_SELECTOR, 'input.login-button')\n",
    "login_button.click()\n"
   ]
  },
  {
   "cell_type": "markdown",
   "metadata": {},
   "source": [
    "#After logging in, go to obtain app_key and ssoid"
   ]
  },
  {
   "cell_type": "code",
   "execution_count": 2,
   "metadata": {},
   "outputs": [
    {
     "name": "stdout",
     "output_type": "stream",
     "text": [
      "Session Token (ssoid): nmQ+vuuySVMG1fxupynxXgFWtCNGrtXQbEg4cCyN9Go=\n"
     ]
    }
   ],
   "source": [
    "# Navigate to the specified URL\n",
    "driver.get('https://docs.developer.betfair.com/visualisers/api-ng-account-operations/')\n",
    "\n",
    "# Find the session token input field and obtain its value\n",
    "session_token_input = driver.find_element(By.ID, 'sessionToken-inputEl')\n",
    "session_token = session_token_input.get_attribute('value')\n",
    "print(\"Session Token (ssoid):\", session_token)\n",
    "\n",
    "\n"
   ]
  },
  {
   "cell_type": "code",
   "execution_count": 3,
   "metadata": {},
   "outputs": [],
   "source": [
    "# Click on the \"getDeveloperAppKeys\" button\n",
    "get_app_keys_button = driver.find_element(By.XPATH, '//div[text()=\"getDeveloperAppKeys\"]')\n",
    "get_app_keys_button.click()"
   ]
  },
  {
   "cell_type": "code",
   "execution_count": 4,
   "metadata": {},
   "outputs": [],
   "source": [
    "# Click on the \"Execute\" button\n",
    "execute_button = WebDriverWait(driver, 10).until(\n",
    "    EC.element_to_be_clickable((By.ID, 'button-1041-btnIconEl'))\n",
    ")\n",
    "execute_button.click()"
   ]
  },
  {
   "cell_type": "code",
   "execution_count": 5,
   "metadata": {},
   "outputs": [],
   "source": [
    "# Click on the \"+\" button to expand the row\n",
    "plus_button = WebDriverWait(driver, 10).until(\n",
    "    EC.element_to_be_clickable((By.CLASS_NAME, 'x-grid-row-expander'))\n",
    ")\n",
    "plus_button.click()"
   ]
  },
  {
   "cell_type": "code",
   "execution_count": 6,
   "metadata": {},
   "outputs": [
    {
     "name": "stdout",
     "output_type": "stream",
     "text": [
      "Application Key: DNEIqwcyAiS7KvXd\n"
     ]
    }
   ],
   "source": [
    "from selenium.webdriver.common.by import By\n",
    "from selenium.webdriver.support.ui import WebDriverWait\n",
    "from selenium.webdriver.support import expected_conditions as EC\n",
    "\n",
    "# Increase timeout if needed\n",
    "wait = WebDriverWait(driver, 20)\n",
    "\n",
    "# Wait for the visibility of the element with specific id and class\n",
    "td_element = wait.until(EC.visibility_of_element_located((By.XPATH, '//td[@id=\"ext-gen1186\" and contains(@class, \"x-grid-cell-gridcolumn-1046\")]')))\n",
    "\n",
    "# Once the element is visible, extract the text\n",
    "app_key = td_element.text\n",
    "\n",
    "# Print the extracted text\n",
    "print(\"Application Key:\", app_key)\n",
    "\n",
    "driver.quit()\n"
   ]
  }
 ],
 "metadata": {
  "kernelspec": {
   "display_name": "Python 3",
   "language": "python",
   "name": "python3"
  },
  "language_info": {
   "codemirror_mode": {
    "name": "ipython",
    "version": 3
   },
   "file_extension": ".py",
   "mimetype": "text/x-python",
   "name": "python",
   "nbconvert_exporter": "python",
   "pygments_lexer": "ipython3",
   "version": "3.11.5"
  }
 },
 "nbformat": 4,
 "nbformat_minor": 2
}
